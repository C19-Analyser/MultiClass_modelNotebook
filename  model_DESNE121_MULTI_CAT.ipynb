{
 "cells": [
  {
   "cell_type": "markdown",
   "metadata": {},
   "source": [
    "# Classification multi etiquette par exctraction de features"
   ]
  },
  {
   "cell_type": "code",
   "execution_count": 1,
   "metadata": {},
   "outputs": [],
   "source": [
    "# Chargement des modules necessaire :\n",
    "\n",
    "import os\n",
    "\n",
    "import random\n",
    "from matplotlib import pyplot as plt\n",
    "\n",
    "import numpy as np\n",
    "\n",
    "from tensorflow.keras.models import Sequential\n",
    "from tensorflow.keras.layers import Activation, Dropout, Flatten, Dense\n",
    "from tensorflow.keras.preprocessing.image import ImageDataGenerator\n",
    "from tensorflow.keras.layers import Convolution2D, MaxPooling2D, ZeroPadding2D\n",
    "from tensorflow.keras import optimizers\n",
    "from tensorflow.keras import applications\n",
    "from tensorflow.keras.models import Model"
   ]
  },
  {
   "cell_type": "code",
   "execution_count": 3,
   "metadata": {},
   "outputs": [
    {
     "name": "stdout",
     "output_type": "stream",
     "text": [
      "Il y a 1386 images d'entrainement de patient covid.\n",
      "Il y a 800 images d'entrainement de patient atelectasis.\n",
      "Il y a 1106 images d'entrainement de patient sain.\n",
      "Il y a 800 images d'entrainement de patient effusion.\n",
      "Il y a 1380 images d'entrainement de patient emphyseme.\n",
      "Il y a 1348 images d'entrainement de patient infltration.\n",
      "Il y a 1000 images d'entrainement de patient pneumonie.\n",
      "Il y a 219 images de validation de patient covid.\n",
      "Il y a 102 images de validation de patient atelectasis.\n",
      "Il y a 930 images de validation de patient non-covid.\n",
      "Il y a 133 images de validation de patient effusion.\n",
      "Il y a 193 images de validation de patient emphyseme.\n",
      "Il y a 193 images de validation de patient infltration.\n",
      "Il y a 333 images de validation de patient pneumonie.\n",
      "Il y a 240 images test de patient covid.\n",
      "Il y a 102 images test de patient atelectasis.\n",
      "Il y a 872 images test de patient non-covid.\n",
      "Il y a 133 images test de patient effusion.\n",
      "Il y a 193 images test de patient emphyseme.\n",
      "Il y a 387 images test de patient infltration.\n",
      "Il y a 333 images test de patient pneumonie.\n"
     ]
    }
   ],
   "source": [
    "# On declare les chemins vers les donnees :\n",
    "\n",
    "Image = 'Data'\n",
    "        \n",
    "train_data_dir = 'Data/TRAIN'\n",
    "validation_data_dir = 'Data/VALIDATION'\n",
    "test_data_dir = 'Data/TEST'\n",
    "\n",
    "# Dimmension et path :\n",
    "img_width, img_height = 224, 224\n",
    "\n",
    "ImageTRAINCOVID = os.listdir(Image + '/TRAIN/COVID')\n",
    "ImageTRAINATELECTASIS = os.listdir(Image + '/TRAIN/ATELECTASIS')\n",
    "ImageTRAINNORMAL = os.listdir(Image + '/TRAIN/NORMAL')\n",
    "ImageTRAINEFFUSION = os.listdir(Image + '/TRAIN/EFFUSION')\n",
    "ImageTRAINEMPHYSEMA = os.listdir(Image + '/TRAIN/EMPHYSEMA')\n",
    "ImageTRAININFILTRATION = os.listdir(Image + '/TRAIN/INFILTRATION')\n",
    "ImageTRAINPNEUMONIE = os.listdir(Image + '/TRAIN/PNEUMONIE')\n",
    "\n",
    "ImageVALIDATIONCOVID = os.listdir(Image + '/VALIDATION/COVID')\n",
    "ImageVALIDATIONATELECTASIS = os.listdir(Image + '/VALIDATION/ATELECTASIS')\n",
    "ImageVALIDATIONNORMAL = os.listdir(Image + '/VALIDATION/NORMAL')\n",
    "ImageVALIDATIONEFFUSION = os.listdir(Image + '/VALIDATION/EFFUSION')\n",
    "ImageVALIDATIONEMPHYSEMA = os.listdir(Image + '/VALIDATION/EMPHYSEMA')\n",
    "ImageVALIDATIONINFILTRATION = os.listdir(Image + '/VALIDATION/INFILTRATION')\n",
    "ImageVALIDATIONPNEUMONIE = os.listdir(Image + '/VALIDATION/PNEUMONIE')\n",
    "\n",
    "ImageTESTCOVID = os.listdir(Image + '/TEST/COVID')\n",
    "ImageTESTATELECTASIS = os.listdir(Image + '/TEST/ATELECTASIS')\n",
    "ImageTESTNORMAL = os.listdir(Image + '/TEST/NORMAL')\n",
    "ImageTESTEFFUSION = os.listdir(Image + '/TEST/EFFUSION')\n",
    "ImageTESTEMPHYSEMA = os.listdir(Image + '/TEST/EMPHYSEMA')\n",
    "ImageTESTINFILTRATION = os.listdir(Image + '/TEST/INFILTRATION')\n",
    "ImageTESTPNEUMONIE = os.listdir(Image + '/TEST/PNEUMONIE')\n",
    "\n",
    "print('Il y a ' + str(len(ImageTRAINCOVID)) + ' images d\\'entrainement de patient covid.') \n",
    "print('Il y a ' + str(len(ImageTRAINATELECTASIS)) + ' images d\\'entrainement de patient atelectasis.') \n",
    "print('Il y a ' + str(len(ImageTRAINNORMAL)) + ' images d\\'entrainement de patient sain.') \n",
    "print('Il y a ' + str(len(ImageTRAINEFFUSION)) + ' images d\\'entrainement de patient effusion.') \n",
    "print('Il y a ' + str(len(ImageTRAINEMPHYSEMA)) + ' images d\\'entrainement de patient emphyseme.') \n",
    "print('Il y a ' + str(len(ImageTRAININFILTRATION)) + ' images d\\'entrainement de patient infltration.')\n",
    "print('Il y a ' + str(len(ImageTRAINPNEUMONIE)) + ' images d\\'entrainement de patient pneumonie.')\n",
    "\n",
    "print('Il y a ' + str(len(ImageVALIDATIONCOVID)) + ' images de validation de patient covid.') \n",
    "print('Il y a ' + str(len(ImageVALIDATIONATELECTASIS)) + ' images de validation de patient atelectasis.') \n",
    "print('Il y a ' + str(len(ImageVALIDATIONNORMAL)) + ' images de validation de patient non-covid.') \n",
    "print('Il y a ' + str(len(ImageVALIDATIONEFFUSION)) + ' images de validation de patient effusion.') \n",
    "print('Il y a ' + str(len(ImageVALIDATIONEMPHYSEMA)) + ' images de validation de patient emphyseme.') \n",
    "print('Il y a ' + str(len(ImageVALIDATIONINFILTRATION)) + ' images de validation de patient infltration.')\n",
    "print('Il y a ' + str(len(ImageVALIDATIONPNEUMONIE)) + ' images de validation de patient pneumonie.')\n",
    "\n",
    "print('Il y a ' + str(len(ImageTESTCOVID)) + ' images test de patient covid.') \n",
    "print('Il y a ' + str(len(ImageTESTATELECTASIS)) + ' images test de patient atelectasis.') \n",
    "print('Il y a ' + str(len(ImageTESTNORMAL)) + ' images test de patient non-covid.')\n",
    "print('Il y a ' + str(len(ImageTESTEFFUSION)) + ' images test de patient effusion.') \n",
    "print('Il y a ' + str(len(ImageTESTEMPHYSEMA)) + ' images test de patient emphyseme.') \n",
    "print('Il y a ' + str(len(ImageTESTINFILTRATION)) + ' images test de patient infltration.')\n",
    "print('Il y a ' + str(len(ImageTESTPNEUMONIE)) + ' images test de patient pneumonie.')"
   ]
  },
  {
   "cell_type": "code",
   "execution_count": 5,
   "metadata": {},
   "outputs": [
    {
     "name": "stdout",
     "output_type": "stream",
     "text": [
      "Found 7816 images belonging to 7 classes.\n",
      "Found 2102 images belonging to 7 classes.\n",
      "Found 2260 images belonging to 7 classes.\n"
     ]
    }
   ],
   "source": [
    "# Preprocessing :\n",
    "\n",
    "# On rescale les images :\n",
    "\n",
    "datagen = ImageDataGenerator(rescale=1./255)\n",
    "\n",
    "# On definit la batch size :\n",
    "\n",
    "batch_size = 32 \n",
    "\n",
    "# On prepare les tableaux de donnees depuis les images :\n",
    "\n",
    "train_generator = datagen.flow_from_directory(\n",
    "        train_data_dir,\n",
    "        target_size=(img_width, img_height),\n",
    "        batch_size=batch_size)\n",
    "\n",
    "validation_generator = datagen.flow_from_directory(\n",
    "        validation_data_dir,\n",
    "        target_size=(img_width, img_height),\n",
    "        batch_size=batch_size)\n",
    "\n",
    "test_generator = datagen.flow_from_directory(\n",
    "        test_data_dir,\n",
    "        target_size=(img_width, img_height),\n",
    "        batch_size=batch_size)"
   ]
  },
  {
   "cell_type": "code",
   "execution_count": 4,
   "metadata": {},
   "outputs": [],
   "source": [
    "# Chargement de DENSE121 sans la partie fully-connected avec le reseau convolutif :\n",
    "\n",
    "model_dense = applications.DenseNet121(include_top=False, weights='imagenet')"
   ]
  },
  {
   "cell_type": "code",
   "execution_count": 5,
   "metadata": {},
   "outputs": [],
   "source": [
    "# On utilse le model VGG16 pour extraire les features de nos images \n",
    "# (on fait recupere la sortie du reseau convolutionnel) :\n",
    "train_features = model_dense.predict_generator(train_generator, 7816 // batch_size)\n",
    "\n",
    "validation_features = model_dense.predict_generator(validation_generator, 2102 // batch_size)\n",
    "\n",
    "# L'opération étant longue on enregistre les features obtenus :\n",
    "np.save(open('models/trainFeatures_DENSE121_AllDataExtended.npy', 'wb'), train_features) # ecriture en binaire necessaire\n",
    "np.save(open('models/validationFeatures_DENSE121_AllDataExtended.npy', 'wb'), validation_features) # Idem"
   ]
  },
  {
   "cell_type": "code",
   "execution_count": 6,
   "metadata": {},
   "outputs": [],
   "source": [
    "# Si l'operation à deja été effectuer on charge les features :\n",
    "\n",
    "train_features = np.load(open('models/trainFeatures_DENSE121_AllDataExtended.npy', 'rb'))\n",
    "validation_features = np.load(open('models/validationFeatures_DENSE121_AllDataExtended.npy', 'rb'))"
   ]
  },
  {
   "cell_type": "code",
   "execution_count": 19,
   "metadata": {},
   "outputs": [],
   "source": [
    "train_labels = np.array([0] * 800 + [1] * 1386 + [2] * 800 + [3] * 1380 + [4] * 1348 + [5] * 1102 + [6] * 992 )\n",
    "\n",
    "validation_labels = np.array([0] * 102 + [1] * 219 + [2] * 128 + [3] * 192 + [4] * 192 + [5] * 928 + [6] * 319 )"
   ]
  },
  {
   "cell_type": "code",
   "execution_count": 20,
   "metadata": {},
   "outputs": [
    {
     "name": "stdout",
     "output_type": "stream",
     "text": [
      "Model: \"sequential_3\"\n",
      "_________________________________________________________________\n",
      "Layer (type)                 Output Shape              Param #   \n",
      "=================================================================\n",
      "flatten_3 (Flatten)          (None, 50176)             0         \n",
      "_________________________________________________________________\n",
      "dense_9 (Dense)              (None, 512)               25690624  \n",
      "_________________________________________________________________\n",
      "dense_10 (Dense)             (None, 126)               64638     \n",
      "_________________________________________________________________\n",
      "dropout_3 (Dropout)          (None, 126)               0         \n",
      "_________________________________________________________________\n",
      "dense_11 (Dense)             (None, 7)                 889       \n",
      "=================================================================\n",
      "Total params: 25,756,151\n",
      "Trainable params: 25,756,151\n",
      "Non-trainable params: 0\n",
      "_________________________________________________________________\n"
     ]
    }
   ],
   "source": [
    "model_top = Sequential()\n",
    "model_top.add(Flatten(input_shape=train_features.shape[1:]))\n",
    "model_top.add(Dense(512, activation='relu'))\n",
    "model_top.add(Dense(126, activation='relu'))\n",
    "model_top.add(Dropout(0.3))\n",
    "model_top.add(Dense(7, activation='softmax'))\n",
    "\n",
    "# On compile :\n",
    "model_top.compile(optimizer='adam', loss='sparse_categorical_crossentropy', metrics=['accuracy'])\n",
    "\n",
    "# On affiche :\n",
    "model_top.summary()"
   ]
  },
  {
   "cell_type": "code",
   "execution_count": 21,
   "metadata": {},
   "outputs": [],
   "source": [
    "epochs = 20"
   ]
  },
  {
   "cell_type": "code",
   "execution_count": 22,
   "metadata": {},
   "outputs": [
    {
     "name": "stdout",
     "output_type": "stream",
     "text": [
      "Train on 7808 samples, validate on 2080 samples\n",
      "Epoch 1/20\n",
      "7808/7808 [==============================] - 150s 19ms/sample - loss: 2.6976 - accuracy: 0.1733 - val_loss: 1.9430 - val_accuracy: 0.0923\n",
      "Epoch 2/20\n",
      "7808/7808 [==============================] - 168s 21ms/sample - loss: 1.9304 - accuracy: 0.1767 - val_loss: 1.9425 - val_accuracy: 0.0923\n",
      "Epoch 3/20\n",
      "7808/7808 [==============================] - 3037s 389ms/sample - loss: 1.9250 - accuracy: 0.1717 - val_loss: 1.9474 - val_accuracy: 0.0923\n",
      "Epoch 4/20\n",
      "7808/7808 [==============================] - 948s 121ms/sample - loss: 1.9234 - accuracy: 0.1766 - val_loss: 1.9456 - val_accuracy: 0.0923\n",
      "Epoch 5/20\n",
      "7808/7808 [==============================] - 1727s 221ms/sample - loss: 1.9223 - accuracy: 0.1734 - val_loss: 1.9451 - val_accuracy: 0.0923\n",
      "Epoch 6/20\n",
      "7808/7808 [==============================] - 1833s 235ms/sample - loss: 1.9221 - accuracy: 0.1780 - val_loss: 1.9461 - val_accuracy: 0.1053\n",
      "Epoch 7/20\n",
      "7808/7808 [==============================] - 9497s 1s/sample - loss: 1.9220 - accuracy: 0.1739 - val_loss: 1.9463 - val_accuracy: 0.1053\n",
      "Epoch 8/20\n",
      "7808/7808 [==============================] - 173s 22ms/sample - loss: 1.9220 - accuracy: 0.1739 - val_loss: 1.9474 - val_accuracy: 0.1053\n",
      "Epoch 9/20\n",
      "7808/7808 [==============================] - 196s 25ms/sample - loss: 1.9220 - accuracy: 0.1775 - val_loss: 1.9468 - val_accuracy: 0.1053\n",
      "Epoch 10/20\n",
      "7808/7808 [==============================] - 201s 26ms/sample - loss: 1.9219 - accuracy: 0.1760 - val_loss: 1.9465 - val_accuracy: 0.1053\n",
      "Epoch 11/20\n",
      "7808/7808 [==============================] - 206s 26ms/sample - loss: 1.9219 - accuracy: 0.1757 - val_loss: 1.9452 - val_accuracy: 0.0923\n",
      "Epoch 12/20\n",
      "7808/7808 [==============================] - 211s 27ms/sample - loss: 1.9220 - accuracy: 0.1697 - val_loss: 1.9455 - val_accuracy: 0.0923\n",
      "Epoch 13/20\n",
      "7808/7808 [==============================] - 210s 27ms/sample - loss: 1.9219 - accuracy: 0.1752 - val_loss: 1.9471 - val_accuracy: 0.1053\n",
      "Epoch 14/20\n",
      "7808/7808 [==============================] - 208s 27ms/sample - loss: 1.9219 - accuracy: 0.1742 - val_loss: 1.9469 - val_accuracy: 0.1053\n",
      "Epoch 15/20\n",
      "7808/7808 [==============================] - 211s 27ms/sample - loss: 1.9219 - accuracy: 0.1743 - val_loss: 1.9472 - val_accuracy: 0.1053\n",
      "Epoch 16/20\n",
      "7808/7808 [==============================] - 218s 28ms/sample - loss: 1.9220 - accuracy: 0.1758 - val_loss: 1.9470 - val_accuracy: 0.1053\n",
      "Epoch 17/20\n",
      "7808/7808 [==============================] - 216s 28ms/sample - loss: 1.9220 - accuracy: 0.1746 - val_loss: 1.9458 - val_accuracy: 0.1053\n",
      "Epoch 18/20\n",
      "7808/7808 [==============================] - 212s 27ms/sample - loss: 1.9219 - accuracy: 0.1775 - val_loss: 1.9462 - val_accuracy: 0.1053\n",
      "Epoch 19/20\n",
      "7808/7808 [==============================] - 215s 28ms/sample - loss: 1.9219 - accuracy: 0.1764 - val_loss: 1.9449 - val_accuracy: 0.1053\n",
      "Epoch 20/20\n",
      "7808/7808 [==============================] - 223s 29ms/sample - loss: 1.9220 - accuracy: 0.1737 - val_loss: 1.9454 - val_accuracy: 0.1053\n"
     ]
    }
   ],
   "source": [
    "\n",
    "history = model_top.fit(train_features, train_labels,\n",
    "        epochs=epochs, \n",
    "        batch_size=batch_size,\n",
    "        validation_data=(validation_features, validation_labels))"
   ]
  },
  {
   "cell_type": "code",
   "execution_count": 24,
   "metadata": {},
   "outputs": [
    {
     "name": "stdout",
     "output_type": "stream",
     "text": [
      "WARNING:tensorflow:From /opt/anaconda3/lib/python3.7/site-packages/tensorflow_core/python/ops/resource_variable_ops.py:1781: calling BaseResourceVariable.__init__ (from tensorflow.python.ops.resource_variable_ops) with constraint is deprecated and will be removed in a future version.\n",
      "Instructions for updating:\n",
      "If using Keras pass *_constraint arguments to layers.\n",
      "INFO:tensorflow:Assets written to: models/DENSE121_Full_MAXG_224_224/assets\n"
     ]
    }
   ],
   "source": [
    "model_top.save('models/DENSE121_Full_10G_224_224')"
   ]
  },
  {
   "cell_type": "code",
   "execution_count": null,
   "metadata": {},
   "outputs": [],
   "source": [
    "# LE modele n'apprend pas "
   ]
  }
 ],
 "metadata": {
  "kernelspec": {
   "display_name": "Python 3",
   "language": "python",
   "name": "python3"
  },
  "language_info": {
   "codemirror_mode": {
    "name": "ipython",
    "version": 3
   },
   "file_extension": ".py",
   "mimetype": "text/x-python",
   "name": "python",
   "nbconvert_exporter": "python",
   "pygments_lexer": "ipython3",
   "version": "3.7.6"
  }
 },
 "nbformat": 4,
 "nbformat_minor": 4
}
