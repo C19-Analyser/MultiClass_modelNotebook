{
 "cells": [
  {
   "cell_type": "markdown",
   "metadata": {},
   "source": [
    "# Classification multi-étiquette"
   ]
  },
  {
   "cell_type": "code",
   "execution_count": 1,
   "metadata": {},
   "outputs": [],
   "source": [
    "# Chargement des modules necessaires\n",
    "\n",
    "import os\n",
    "\n",
    "import random\n",
    "\n",
    "import numpy as np\n",
    "\n",
    "import matplotlib.pyplot as plt\n",
    "\n",
    "from tensorflow.keras.models import Sequential\n",
    "from tensorflow.keras.layers import Activation, Dropout, Flatten, Dense\n",
    "from tensorflow.keras.preprocessing.image import ImageDataGenerator\n",
    "from tensorflow.keras.layers import Convolution2D, MaxPooling2D, ZeroPadding2D\n",
    "from tensorflow.keras import optimizers\n",
    "from tensorflow.keras.preprocessing.image import load_img,img_to_array"
   ]
  },
  {
   "cell_type": "code",
   "execution_count": 2,
   "metadata": {},
   "outputs": [
    {
     "name": "stdout",
     "output_type": "stream",
     "text": [
      "Il y a 690 images d'entrainement de patient sain.\n",
      "Il y a 304 images d'entrainement de patient atelectasis.\n",
      "Il y a 378 images d'entrainement de patient effusion.\n",
      "Il y a 580 images d'entrainement de patient emphyseme.\n",
      "Il y a 580 images d'entrainement de patient infltration.\n",
      "Il y a 1000 images d'entrainement de patient pneumonie.\n",
      "Il y a 230 images de validation de patient non-covid.\n",
      "Il y a 102 images de validation de patient atelectasis.\n",
      "Il y a 133 images de validation de patient effusion.\n",
      "Il y a 193 images de validation de patient emphyseme.\n",
      "Il y a 193 images de validation de patient infltration.\n",
      "Il y a 333 images de validation de patient pneumonie.\n",
      "Il y a 230 images test de patient non-covid.\n",
      "Il y a 102 images test de patient atelectasis.\n",
      "Il y a 133 images test de patient effusion.\n",
      "Il y a 193 images test de patient emphyseme.\n",
      "Il y a 387 images test de patient infltration.\n",
      "Il y a 333 images test de patient pneumonie.\n"
     ]
    }
   ],
   "source": [
    "# On declare les chemins vers les donnees :\n",
    "\n",
    "Image = 'Data'\n",
    "        \n",
    "train_data_dir = 'Data/TRAIN'\n",
    "validation_data_dir = 'Data/VALIDATION'\n",
    "test_data_dir = 'Data/TEST'\n",
    "\n",
    "# Dimmension et path :\n",
    "img_width, img_height = 224, 224\n",
    "\n",
    "#ImageTRAINCOVID = os.listdir(Image + '/TRAIN/COVID')\n",
    "ImageTRAINATELECTASIS = os.listdir(Image + '/TRAIN/ATELECTASIS')\n",
    "ImageTRAINNORMAL = os.listdir(Image + '/TRAIN/NORMAL')\n",
    "ImageTRAINEFFUSION = os.listdir(Image + '/TRAIN/EFFUSION')\n",
    "ImageTRAINEMPHYSEMA = os.listdir(Image + '/TRAIN/EMPHYSEMA')\n",
    "ImageTRAININFILTRATION = os.listdir(Image + '/TRAIN/INFILTRATION')\n",
    "ImageTRAINPNEUMONIE = os.listdir(Image + '/TRAIN/PNEUMONIE')\n",
    "\n",
    "#ImageVALIDATIONCOVID = os.listdir(Image + '/VALIDATION/COVID')\n",
    "ImageVALIDATIONATELECTASIS = os.listdir(Image + '/VALIDATION/ATELECTASIS')\n",
    "ImageVALIDATIONNORMAL = os.listdir(Image + '/VALIDATION/NORMAL')\n",
    "ImageVALIDATIONEFFUSION = os.listdir(Image + '/VALIDATION/EFFUSION')\n",
    "ImageVALIDATIONEMPHYSEMA = os.listdir(Image + '/VALIDATION/EMPHYSEMA')\n",
    "ImageVALIDATIONINFILTRATION = os.listdir(Image + '/VALIDATION/INFILTRATION')\n",
    "ImageVALIDATIONPNEUMONIE = os.listdir(Image + '/VALIDATION/PNEUMONIE')\n",
    "\n",
    "#ImageTESTCOVID = os.listdir(Image + '/TEST/COVID')\n",
    "ImageTESTATELECTASIS = os.listdir(Image + '/TEST/ATELECTASIS')\n",
    "ImageTESTNORMAL = os.listdir(Image + '/TEST/NORMAL')\n",
    "ImageTESTEFFUSION = os.listdir(Image + '/TEST/EFFUSION')\n",
    "ImageTESTEMPHYSEMA = os.listdir(Image + '/TEST/EMPHYSEMA')\n",
    "ImageTESTINFILTRATION = os.listdir(Image + '/TEST/INFILTRATION')\n",
    "ImageTESTPNEUMONIE = os.listdir(Image + '/TEST/PNEUMONIE')\n",
    "\n",
    "#print('Il y a ' + str(len(ImageTRAINCOVID)) + ' images d\\'entrainement de patient covid.') \n",
    "print('Il y a ' + str(len(ImageTRAINNORMAL)) + ' images d\\'entrainement de patient sain.') \n",
    "print('Il y a ' + str(len(ImageTRAINATELECTASIS)) + ' images d\\'entrainement de patient atelectasis.') \n",
    "print('Il y a ' + str(len(ImageTRAINEFFUSION)) + ' images d\\'entrainement de patient effusion.') \n",
    "print('Il y a ' + str(len(ImageTRAINEMPHYSEMA)) + ' images d\\'entrainement de patient emphyseme.') \n",
    "print('Il y a ' + str(len(ImageTRAININFILTRATION)) + ' images d\\'entrainement de patient infltration.')\n",
    "print('Il y a ' + str(len(ImageTRAINPNEUMONIE)) + ' images d\\'entrainement de patient pneumonie.')\n",
    "\n",
    "#print('Il y a ' + str(len(ImageVALIDATIONCOVID)) + ' images de validation de patient covid.') \n",
    "print('Il y a ' + str(len(ImageVALIDATIONNORMAL)) + ' images de validation de patient non-covid.') \n",
    "print('Il y a ' + str(len(ImageVALIDATIONATELECTASIS)) + ' images de validation de patient atelectasis.') \n",
    "print('Il y a ' + str(len(ImageVALIDATIONEFFUSION)) + ' images de validation de patient effusion.') \n",
    "print('Il y a ' + str(len(ImageVALIDATIONEMPHYSEMA)) + ' images de validation de patient emphyseme.') \n",
    "print('Il y a ' + str(len(ImageVALIDATIONINFILTRATION)) + ' images de validation de patient infltration.')\n",
    "print('Il y a ' + str(len(ImageVALIDATIONPNEUMONIE)) + ' images de validation de patient pneumonie.')\n",
    "\n",
    "#print('Il y a ' + str(len(ImageTESTCOVID)) + ' images test de patient covid.') \n",
    "print('Il y a ' + str(len(ImageTESTNORMAL)) + ' images test de patient non-covid.')\n",
    "print('Il y a ' + str(len(ImageTESTATELECTASIS)) + ' images test de patient atelectasis.') \n",
    "print('Il y a ' + str(len(ImageTESTEFFUSION)) + ' images test de patient effusion.') \n",
    "print('Il y a ' + str(len(ImageTESTEMPHYSEMA)) + ' images test de patient emphyseme.') \n",
    "print('Il y a ' + str(len(ImageTESTINFILTRATION)) + ' images test de patient infltration.')\n",
    "print('Il y a ' + str(len(ImageTESTPNEUMONIE)) + ' images test de patient pneumonie.')"
   ]
  },
  {
   "cell_type": "code",
   "execution_count": 3,
   "metadata": {},
   "outputs": [
    {
     "name": "stdout",
     "output_type": "stream",
     "text": [
      "Found 3532 images belonging to 6 classes.\n",
      "Found 1184 images belonging to 6 classes.\n",
      "Found 1378 images belonging to 6 classes.\n"
     ]
    }
   ],
   "source": [
    "# Preprocessing :\n",
    "\n",
    "# On rescale les images :\n",
    "\n",
    "datagen = ImageDataGenerator(rescale=1./255)\n",
    "\n",
    "# On definit la batch size :\n",
    "\n",
    "batch_size = 32 \n",
    "\n",
    "# On prepare les tableaux de donnees depuis les images :\n",
    "\n",
    "train_generator = datagen.flow_from_directory(\n",
    "        train_data_dir,\n",
    "        target_size=(img_width, img_height),\n",
    "        batch_size=batch_size)\n",
    "\n",
    "validation_generator = datagen.flow_from_directory(\n",
    "        validation_data_dir,\n",
    "        target_size=(img_width, img_height),\n",
    "        batch_size=batch_size)\n",
    "\n",
    "test_generator = datagen.flow_from_directory(\n",
    "        test_data_dir,\n",
    "        target_size=(img_width, img_height),\n",
    "        batch_size=batch_size)"
   ]
  },
  {
   "cell_type": "code",
   "execution_count": 4,
   "metadata": {},
   "outputs": [
    {
     "name": "stdout",
     "output_type": "stream",
     "text": [
      "Model: \"sequential\"\n",
      "_________________________________________________________________\n",
      "Layer (type)                 Output Shape              Param #   \n",
      "=================================================================\n",
      "conv2d (Conv2D)              (None, 222, 222, 32)      896       \n",
      "_________________________________________________________________\n",
      "activation (Activation)      (None, 222, 222, 32)      0         \n",
      "_________________________________________________________________\n",
      "max_pooling2d (MaxPooling2D) (None, 111, 111, 32)      0         \n",
      "_________________________________________________________________\n",
      "conv2d_1 (Conv2D)            (None, 109, 109, 32)      9248      \n",
      "_________________________________________________________________\n",
      "activation_1 (Activation)    (None, 109, 109, 32)      0         \n",
      "_________________________________________________________________\n",
      "max_pooling2d_1 (MaxPooling2 (None, 54, 54, 32)        0         \n",
      "_________________________________________________________________\n",
      "conv2d_2 (Conv2D)            (None, 52, 52, 64)        18496     \n",
      "_________________________________________________________________\n",
      "activation_2 (Activation)    (None, 52, 52, 64)        0         \n",
      "_________________________________________________________________\n",
      "max_pooling2d_2 (MaxPooling2 (None, 26, 26, 64)        0         \n",
      "_________________________________________________________________\n",
      "flatten (Flatten)            (None, 43264)             0         \n",
      "_________________________________________________________________\n",
      "dense (Dense)                (None, 64)                2768960   \n",
      "_________________________________________________________________\n",
      "activation_3 (Activation)    (None, 64)                0         \n",
      "_________________________________________________________________\n",
      "dropout (Dropout)            (None, 64)                0         \n",
      "_________________________________________________________________\n",
      "dense_1 (Dense)              (None, 6)                 390       \n",
      "_________________________________________________________________\n",
      "activation_4 (Activation)    (None, 6)                 0         \n",
      "=================================================================\n",
      "Total params: 2,797,990\n",
      "Trainable params: 2,797,990\n",
      "Non-trainable params: 0\n",
      "_________________________________________________________________\n"
     ]
    }
   ],
   "source": [
    "# On definit l'architecture du model :\n",
    "\n",
    "model = Sequential()\n",
    "model.add(Convolution2D(32, (3, 3), input_shape=(img_width, img_height,3)))\n",
    "model.add(Activation('relu'))\n",
    "model.add(MaxPooling2D(pool_size=(2, 2)))\n",
    "\n",
    "model.add(Convolution2D(32, (3, 3)))\n",
    "model.add(Activation('relu'))\n",
    "model.add(MaxPooling2D(pool_size=(2, 2)))\n",
    "\n",
    "model.add(Convolution2D(64, (3, 3)))\n",
    "model.add(Activation('relu'))\n",
    "model.add(MaxPooling2D(pool_size=(2, 2)))\n",
    "\n",
    "model.add(Flatten())\n",
    "model.add(Dense(64))\n",
    "model.add(Activation('relu'))\n",
    "model.add(Dropout(0.5))\n",
    "model.add(Dense(6))\n",
    "model.add(Activation('softmax'))\n",
    "\n",
    "# On compile le modeles :\n",
    "\n",
    "model.compile(loss='categorical_crossentropy',\n",
    "              optimizer='adam',\n",
    "              metrics=['accuracy'])\n",
    "\n",
    "# On affiche le model :\n",
    "\n",
    "model.summary()"
   ]
  },
  {
   "cell_type": "code",
   "execution_count": 5,
   "metadata": {},
   "outputs": [],
   "source": [
    "# On definit les paramétres pour l'entrainement :\n",
    "\n",
    "epochs = 10\n",
    "train_samples = 3532\n",
    "validation_samples = 1184\n",
    "test_samples = 1378"
   ]
  },
  {
   "cell_type": "code",
   "execution_count": 6,
   "metadata": {},
   "outputs": [
    {
     "name": "stdout",
     "output_type": "stream",
     "text": [
      "Epoch 1/10\n",
      "110/110 [==============================] - 941s 9s/step - loss: 1.3502 - accuracy: 0.4457 - val_loss: 1.0889 - val_accuracy: 0.5397\n",
      "Epoch 2/10\n",
      "110/110 [==============================] - 1005s 9s/step - loss: 0.9856 - accuracy: 0.5700 - val_loss: 0.8825 - val_accuracy: 0.5819\n",
      "Epoch 3/10\n",
      "110/110 [==============================] - 1344s 12s/step - loss: 0.9148 - accuracy: 0.5920 - val_loss: 0.8662 - val_accuracy: 0.5929\n",
      "Epoch 4/10\n",
      "110/110 [==============================] - 1454s 13s/step - loss: 0.8935 - accuracy: 0.5883 - val_loss: 0.8366 - val_accuracy: 0.5988\n",
      "Epoch 5/10\n",
      "110/110 [==============================] - 883s 8s/step - loss: 0.8352 - accuracy: 0.6023 - val_loss: 0.8165 - val_accuracy: 0.6030\n",
      "Epoch 6/10\n",
      "110/110 [==============================] - 900s 8s/step - loss: 0.8184 - accuracy: 0.6103 - val_loss: 0.8640 - val_accuracy: 0.5921\n",
      "Epoch 7/10\n",
      "110/110 [==============================] - 1048s 10s/step - loss: 0.8035 - accuracy: 0.6111 - val_loss: 0.8466 - val_accuracy: 0.6090\n",
      "Epoch 8/10\n",
      "110/110 [==============================] - 991s 9s/step - loss: 0.8041 - accuracy: 0.6143 - val_loss: 0.8604 - val_accuracy: 0.5971\n",
      "Epoch 9/10\n",
      "110/110 [==============================] - 1561s 14s/step - loss: 0.7589 - accuracy: 0.6331 - val_loss: 0.8361 - val_accuracy: 0.6047\n",
      "Epoch 10/10\n",
      "110/110 [==============================] - 1598s 15s/step - loss: 0.7809 - accuracy: 0.6080 - val_loss: 0.8649 - val_accuracy: 0.6022\n"
     ]
    }
   ],
   "source": [
    "historique = model.fit_generator(\n",
    "        train_generator,\n",
    "        steps_per_epoch=train_samples // batch_size,\n",
    "        epochs=epochs,\n",
    "        validation_data=validation_generator,\n",
    "        validation_steps=validation_samples// batch_size)"
   ]
  },
  {
   "cell_type": "code",
   "execution_count": 7,
   "metadata": {},
   "outputs": [
    {
     "name": "stdout",
     "output_type": "stream",
     "text": [
      "WARNING:tensorflow:From /opt/anaconda3/lib/python3.7/site-packages/tensorflow_core/python/ops/resource_variable_ops.py:1781: calling BaseResourceVariable.__init__ (from tensorflow.python.ops.resource_variable_ops) with constraint is deprecated and will be removed in a future version.\n",
      "Instructions for updating:\n",
      "If using Keras pass *_constraint arguments to layers.\n",
      "INFO:tensorflow:Assets written to: models/scratchFull_10G_224_224/assets\n"
     ]
    }
   ],
   "source": [
    "# Enregistrement des donnees\n",
    "\n",
    "np.save('models/historique_scratch_224_224_10G_Baudouin.npy',historique.history)\n",
    "\n",
    "model.save('models/scratchFull_10G_224_224')"
   ]
  },
  {
   "cell_type": "code",
   "execution_count": 8,
   "metadata": {},
   "outputs": [
    {
     "name": "stdout",
     "output_type": "stream",
     "text": [
      "[0.8649289111380238, 0.6021959]\n",
      "[1.2720320892402408, 0.4518371]\n"
     ]
    }
   ],
   "source": [
    "# Evaluation des modeles\n",
    "\n",
    "resultValidation = model.evaluate_generator(validation_generator, validation_samples)\n",
    "resultTest = model.evaluate_generator(test_generator, test_samples)\n",
    "\n",
    "\n",
    "print(resultValidation)\n",
    "print(resultTest)"
   ]
  },
  {
   "cell_type": "code",
   "execution_count": 22,
   "metadata": {},
   "outputs": [],
   "source": [
    "def testImage(path):\n",
    "    img = load_img(path, target_size=(224,224))\n",
    "    img = img_to_array(img)\n",
    "    img = img.reshape((1, img.shape[0], img.shape[1], img.shape[2]))\n",
    "    y = model.predict(img)\n",
    "    return y"
   ]
  },
  {
   "cell_type": "code",
   "execution_count": 50,
   "metadata": {},
   "outputs": [
    {
     "name": "stdout",
     "output_type": "stream",
     "text": [
      "(array([3]),)\n",
      "(array([3]),)\n",
      "(array([2]),)\n",
      "(array([3]),)\n",
      "(array([3]),)\n",
      "(array([3]),)\n",
      "(array([3]),)\n",
      "(array([2]),)\n",
      "(array([2]),)\n",
      "(array([3]),)\n",
      "End ---- \n",
      "(array([2]),)\n",
      "(array([3]),)\n",
      "(array([3]),)\n",
      "(array([3]),)\n",
      "(array([2]),)\n",
      "(array([3]),)\n",
      "(array([4]),)\n",
      "(array([5]),)\n",
      "(array([3]),)\n",
      "(array([3]),)\n",
      "End ---- \n",
      "(array([0]),)\n",
      "(array([3]),)\n",
      "(array([2]),)\n",
      "(array([5]),)\n",
      "(array([2]),)\n",
      "(array([3]),)\n",
      "(array([3]),)\n",
      "(array([3]),)\n",
      "(array([3]),)\n",
      "(array([2]),)\n",
      "End ---- \n",
      "(array([5]),)\n",
      "(array([5]),)\n",
      "(array([5]),)\n",
      "(array([5]),)\n",
      "(array([5]),)\n",
      "(array([5]),)\n",
      "(array([5]),)\n",
      "(array([5]),)\n",
      "(array([5]),)\n",
      "(array([5]),)\n",
      "End ---- \n"
     ]
    }
   ],
   "source": [
    "for i in range(10):\n",
    "    result = testImage(Image+\"/TEST/ATELECTASIS/\"+ImageTESTATELECTASIS[i])[0]\n",
    "    item = max(result)\n",
    "    itemindex = np.where(result==item)\n",
    "    print(itemindex)\n",
    "    \n",
    "print('End ---- ')\n",
    "\n",
    "for i in range(10):\n",
    "    result = testImage(Image+\"/TEST/EFFUSION/\"+ImageTESTEFFUSION[i])[0]\n",
    "    item = max(result)\n",
    "    itemindex = np.where(result==item)\n",
    "    print(itemindex)\n",
    "    \n",
    "print('End ---- ')\n",
    "\n",
    "for i in range(10):\n",
    "    result = testImage(Image+\"/TEST/EMPHYSEMA/\"+ImageTESTEMPHYSEMA[i])[0]\n",
    "    item = max(result)\n",
    "    itemindex = np.where(result==item)\n",
    "    print(itemindex)\n",
    "    \n",
    "print('End ---- ')\n",
    "\n",
    "for i in range(10):\n",
    "    result = testImage(Image+\"/TEST/PNEUMONIE/\"+ImageTESTPNEUMONIE[i])[0]\n",
    "    item = max(result)\n",
    "    itemindex = np.where(result==item)\n",
    "    print(itemindex)\n",
    "    \n",
    "print('End ---- ')"
   ]
  },
  {
   "cell_type": "code",
   "execution_count": 49,
   "metadata": {},
   "outputs": [
    {
     "name": "stdout",
     "output_type": "stream",
     "text": [
      "End ---- \n",
      "126\n"
     ]
    }
   ],
   "source": [
    "resultTotal = 0\n",
    "\n",
    "for i in range(230):\n",
    "    result = testImage(Image+\"/TEST/NORMAL/\"+ImageTESTNORMAL[i])[0]\n",
    "    item = max(result)\n",
    "    itemindex = np.where(result==item)\n",
    "    if itemindex[0][0] == 4:\n",
    "        resultTotal = resultTotal + 1\n",
    "    \n",
    "print('End ---- ')\n",
    "print(resultTotal)"
   ]
  },
  {
   "cell_type": "code",
   "execution_count": 47,
   "metadata": {},
   "outputs": [
    {
     "name": "stdout",
     "output_type": "stream",
     "text": [
      "End ---- \n",
      "307\n"
     ]
    }
   ],
   "source": [
    "resultTotal = 0\n",
    "\n",
    "for i in range(333):\n",
    "    result = testImage(Image+\"/TEST/PNEUMONIE/\"+ImageTESTPNEUMONIE[i])[0]\n",
    "    item = max(result)\n",
    "    itemindex = np.where(result==item)\n",
    "    if itemindex[0][0] == 5:\n",
    "        resultTotal = resultTotal + 1\n",
    "    \n",
    "print('End ---- ')\n",
    "print(resultTotal)"
   ]
  },
  {
   "cell_type": "code",
   "execution_count": null,
   "metadata": {},
   "outputs": [],
   "source": []
  },
  {
   "cell_type": "code",
   "execution_count": null,
   "metadata": {},
   "outputs": [],
   "source": []
  },
  {
   "cell_type": "code",
   "execution_count": null,
   "metadata": {},
   "outputs": [],
   "source": []
  }
 ],
 "metadata": {
  "kernelspec": {
   "display_name": "Python 3",
   "language": "python",
   "name": "python3"
  },
  "language_info": {
   "codemirror_mode": {
    "name": "ipython",
    "version": 3
   },
   "file_extension": ".py",
   "mimetype": "text/x-python",
   "name": "python",
   "nbconvert_exporter": "python",
   "pygments_lexer": "ipython3",
   "version": "3.7.6"
  }
 },
 "nbformat": 4,
 "nbformat_minor": 4
}
